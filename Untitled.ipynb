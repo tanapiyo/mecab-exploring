{
 "cells": [
  {
   "cell_type": "code",
   "execution_count": 2,
   "metadata": {},
   "outputs": [],
   "source": [
    "import pandas as pd\n",
    "import numpy as np\n",
    "import MeCab\n",
    "from functools import reduce"
   ]
  },
  {
   "cell_type": "code",
   "execution_count": 3,
   "metadata": {},
   "outputs": [
    {
     "data": {
      "text/plain": [
       "['夢ならばどれほどよかったでしょう', '未だにあなたのことを夢にみる', '忘れた物を取りに帰るように', '古びた思い出の誇りを払う']"
      ]
     },
     "execution_count": 3,
     "metadata": {},
     "output_type": "execute_result"
    }
   ],
   "source": [
    "lyrics = pd.read_table(\"./lemon.txt\", header=None, encoding=\"utf-8\").values.tolist()\n",
    "#[['夢ならばどれほどよかったでしょう'],['未だにあなたのことを夢にみる']・・・]\n",
    "#reduce；畳み込み。引数に関数、iterableminitializerを渡す、を使って一次元にする\n",
    "lyrics = [reduce(lambda x: x, l) for l in lyrics]\n",
    "# a =[reduce(lambda x,y: [x]*y, l) for l in lyrics]\n",
    "# a\n",
    "# lyrics = reduce(lambda x,y: x+y, [reduce(lambda x,y: [x]*y, l) for l in lyrics])\n",
    "lyrics"
   ]
  },
  {
   "cell_type": "code",
   "execution_count": null,
   "metadata": {},
   "outputs": [],
   "source": []
  },
  {
   "cell_type": "code",
   "execution_count": 7,
   "metadata": {},
   "outputs": [],
   "source": [
    "#辞書なし\n",
    "tagger = MeCab.Tagger()\n",
    "no_dict_result = []\n",
    "for line in lyrics:\n",
    "    tagger.parse(\"\")#エンコードエラーのため（https://qiita.com/kasajei/items/0805b433f363f1dba785）\n",
    "    node = tagger.parseToNode(line)\n",
    "    while node:\n",
    "        if node.surface:\n",
    "            result = \"「{}」の品詞は{}\".format(node.surface, node.feature.split(\",\")[0])\n",
    "            no_dict_result.append(result)\n",
    "        node = node.next"
   ]
  },
  {
   "cell_type": "code",
   "execution_count": 8,
   "metadata": {},
   "outputs": [
    {
     "name": "stdout",
     "output_type": "stream",
     "text": [
      "['「夢」の品詞は名詞', '「なら」の品詞は助動詞', '「ば」の品詞は助詞', '「どれほど」の品詞は副詞', '「よかっ」の品詞は形容詞', '「た」の品詞は助動詞', '「でしょ」の品詞は助動詞', '「う」の品詞は助動詞', '「未だに」の品詞は副詞', '「あなた」の品詞は名詞', '「の」の品詞は助詞', '「こと」の品詞は名詞', '「を」の品詞は助詞', '「夢」の品詞は名詞', '「に」の品詞は助詞', '「みる」の品詞は動詞', '「忘れ」の品詞は動詞', '「た」の品詞は助動詞', '「物」の品詞は名詞', '「を」の品詞は助詞', '「取り」の品詞は動詞', '「に」の品詞は助詞', '「帰る」の品詞は動詞', '「よう」の品詞は名詞', '「に」の品詞は助詞', '「古び」の品詞は動詞', '「た」の品詞は助動詞', '「思い出」の品詞は名詞', '「の」の品詞は助詞', '「誇り」の品詞は名詞', '「を」の品詞は助詞', '「払う」の品詞は動詞']\n"
     ]
    }
   ],
   "source": [
    "write_path = \"no-dict.txt\"\n",
    "print(no_dict_result)\n",
    "with open(write_path, mode='w',encoding='utf-8') as f:\n",
    "    f.write('\\n'.join(no_dict_result))"
   ]
  },
  {
   "cell_type": "code",
   "execution_count": 4,
   "metadata": {},
   "outputs": [],
   "source": [
    "#辞書なし\n",
    "tagger_with_dict = MeCab.Tagger('-d /usr/local/lib/mecab/dic/mecab-ipadic-neologd')\n",
    "use_dict_result = []\n",
    "for line in lyrics:\n",
    "    tagger_with_dict.parse(\"\")#エンコードエラーのため（https://qiita.com/kasajei/items/0805b433f363f1dba785）\n",
    "    node = tagger_with_dict.parseToNode(line)\n",
    "    while node:\n",
    "        if node.surface:\n",
    "            result = \"「{}」の品詞は{}\".format(node.surface, node.feature.split(\",\")[0])\n",
    "            use_dict_result.append(result)\n",
    "        node = node.next"
   ]
  },
  {
   "cell_type": "code",
   "execution_count": 6,
   "metadata": {},
   "outputs": [
    {
     "name": "stdout",
     "output_type": "stream",
     "text": [
      "['「夢ならば」の品詞は名詞', '「どれ」の品詞は名詞', '「ほど」の品詞は助詞', '「よかっ」の品詞は形容詞', '「た」の品詞は助動詞', '「でしょ」の品詞は助動詞', '「う」の品詞は助動詞', '「未だに」の品詞は副詞', '「あなた」の品詞は名詞', '「の」の品詞は助詞', '「こと」の品詞は名詞', '「を」の品詞は助詞', '「夢に」の品詞は副詞', '「みる」の品詞は動詞', '「忘れ」の品詞は動詞', '「た」の品詞は助動詞', '「物」の品詞は名詞', '「を」の品詞は助詞', '「取り」の品詞は動詞', '「に」の品詞は助詞', '「帰る」の品詞は動詞', '「よう」の品詞は名詞', '「に」の品詞は助詞', '「古び」の品詞は動詞', '「た」の品詞は助動詞', '「思い出」の品詞は名詞', '「の」の品詞は助詞', '「誇り」の品詞は名詞', '「を」の品詞は助詞', '「払う」の品詞は動詞']\n"
     ]
    }
   ],
   "source": [
    "write_path_with_dict = \"with-dict.txt\"\n",
    "print(use_dict_result)\n",
    "with open(write_path_with_dict, mode='w',encoding='utf-8') as f:\n",
    "    f.write('\\n'.join(use_dict_result))"
   ]
  },
  {
   "cell_type": "code",
   "execution_count": null,
   "metadata": {},
   "outputs": [],
   "source": []
  }
 ],
 "metadata": {
  "kernelspec": {
   "display_name": "Python 3",
   "language": "python",
   "name": "python3"
  },
  "language_info": {
   "codemirror_mode": {
    "name": "ipython",
    "version": 3
   },
   "file_extension": ".py",
   "mimetype": "text/x-python",
   "name": "python",
   "nbconvert_exporter": "python",
   "pygments_lexer": "ipython3",
   "version": "3.6.5"
  }
 },
 "nbformat": 4,
 "nbformat_minor": 4
}
